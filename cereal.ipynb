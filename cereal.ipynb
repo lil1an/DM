{
 "cells": [
  {
   "cell_type": "markdown",
   "metadata": {},
   "source": [
    "# **The Healthy Breakfast Challenge**\n",
    " As a nutritionist, you have been hired by local schools to improve the breakfast habits of students. Recent studies have shown that having a nutritious breakfast greatly improves students' energy levels, concentration, and overall performance in school. However, the market is flooded with a variety of cereal brands, each claiming to be the best choice. With the goal of maximizing nutritional value, you need to make informed decisions on which cereal brand to recommend to the local schools.\n",
    "\n",
    " **Overview of your Mission**\n",
    " - **Milestone 1: Data Cleaning** <br> First up, you will dive into the cereal dataset. Just like detectives, you'll need to understand and clean this data. This means identifying and fixing any mistakes. This ensures you will be working with reliable data. <br>\n",
    " - **Milestone 2: Data Visualization** <br> With our data cleaned, it's time to create graphs to show the relationship between different nutritional elements in cereals.\n",
    " - **Milestone 3:Data Interpretation** <br> Finally, you need to interpret your findings. This is where you will make sense of your graphs, and will have found the best three cereals to recommend to local schools."
   ]
  },
  {
   "cell_type": "markdown",
   "metadata": {},
   "source": [
    "### **Milestone 1: Data Cleaning**\n",
    "\n",
    "As a nutritionist, your first task is crucial. Before you can make any recommendations, you need to make sure you have a solid foundation — that means starting with clean data. Looking at the cereal dataset below, follow the following instructions:\n",
    "\n",
    "1. **Spot the clues:** First, scan through the cereal dataset for any bizzare entries. Are there any cereals with missing information? Are there numbers that just don't make sense?\n",
    "2. **The Clean-up:** Once you identify the bizzare entries, you can start the clean-up process. This can include filling in missing data, correcting inaccuracies, or even removing entries that just don't fit. You may need to research the cereal brand to input the correct data.\n",
    "3. **Final Inspection:** Take one last look at the cereal dataset so you don't miss anything."
   ]
  },
  {
   "cell_type": "markdown",
   "metadata": {},
   "source": [
    "![Data cleaning table should be displayed here](images/table1_cleaning.png)"
   ]
  },
  {
   "cell_type": "markdown",
   "metadata": {},
   "source": [
    "### **Milestone 2: Data Visualization**\n",
    "As you've seen, our dataset includes nutritional information for various cereals. For now, we are interested in two columns: **sugars** represented in grams and **vitamins** represented as a percentage of the recommended daily in-take.\n",
    "\n",
    "##### <ins>**Task 1:**</ins> Given the data table below, choose a type of graph that you think will best represent the relationship between **sugars** and **ratings**.\n",
    "\n",
    "![Display cereal first 15 rows of cereal data](images/table_tograph.png)\n",
    "\n",
    "\n",
    "##### What type of graph did you choose?  ____________________________________________________"
   ]
  },
  {
   "cell_type": "markdown",
   "metadata": {},
   "source": [
    "##### <ins>**Task 2:**</ins> Examine the three graphs below. Choose the graph that you think best represents the relationship between the sugar content and vitamin content in cereals. \n",
    "\n",
    "A) Scatter Plot <br>\n",
    "![Graph 1: Scatter Plot Graph should be displayed here](images/scatter.png)<br>\n",
    "B) Bar Graph<br>\n",
    "![Graph 2: Bar Graph should be displayed here](images/bar.png)<br>\n",
    "C) Line Graph <br>\n",
    "![Graph 3: Line Graph should be displayed here](images/line.png)<br>\n",
    "\n",
    "\n",
    "##### Which graph best represented the relationship between sugar and vitamin? _________________\n",
    "\n"
   ]
  },
  {
   "cell_type": "markdown",
   "metadata": {},
   "source": [
    "##### <ins>**Task 3:**</ins> Now, it's time to code your own graph.sugar. To code your own graph, follow the steps below.\n",
    "\n",
    "1. Run the set-up code below."
   ]
  },
  {
   "cell_type": "code",
   "execution_count": null,
   "metadata": {},
   "outputs": [],
   "source": [
    "# Set-up Code\n",
    "import plotly.express as px\n",
    "import pandas as pd\n",
    "\n",
    "# Load data\n",
    "cereal_df = pd.read_csv(\"csv_files/cereal.csv\")"
   ]
  },
  {
   "cell_type": "markdown",
   "metadata": {},
   "source": [
    "2. Choose the the type of graph you want to visualize. Here are your options:\n",
    "    - For a <u>bar graph</u>: Write `px.bar`\n",
    "    - For a <u>line graph</u>: Write `px.line`\n",
    "    - For a <u>scatter plot</u>: Write `px.scatter`"
   ]
  },
  {
   "cell_type": "code",
   "execution_count": null,
   "metadata": {},
   "outputs": [],
   "source": [
    "# ** STUDENT SECTION BEGINS **\n",
    "# Choose a type of graph. Example: chosen_graph = px.line\n",
    "\n",
    "chosen_graph = px.bar  # The default is bar. Change as needed.\n",
    "\n",
    "# ** STUDENT SECTION ENDS **"
   ]
  },
  {
   "cell_type": "markdown",
   "metadata": {},
   "source": [
    "##### <ins>**Task 4:**</ins> It's time to find cerelas with high rating but low sugar. Now that you know how to create different types of graph, it's time to find cereals with high rating but low sugar. To code this graph follow the steps below.\n",
    "\n",
    "1. Run the set-up code below.\n"
   ]
  },
  {
   "cell_type": "code",
   "execution_count": null,
   "metadata": {},
   "outputs": [],
   "source": [
    "# Set-up Code\n",
    "import plotly.express as px\n",
    "import pandas as pd\n",
    "\n",
    "# Load data\n",
    "cereal_df = pd.read_csv(\"csv_files/cereal.csv\")"
   ]
  },
  {
   "cell_type": "markdown",
   "metadata": {},
   "source": [
    "### Goal 1: Find the cereals with high ratings but low sugar\n"
   ]
  },
  {
   "cell_type": "markdown",
   "metadata": {},
   "source": [
    "<span style=\"color:black\"> **Task 1: Choose a type of graph.** </span>\n",
    "Look at the cereal data, and decide what type of graph would best suit your needs: <br>\n",
    "\n",
    "- Bar Graphs: Great for comparing things between different groups.\n",
    "- Line Graphs: Best for showing changes over time. \n",
    "- Scatter Plots: Ideal for showing relationships between two things.<br>\n",
    "\n",
    "<span style=\"color:black\"> **Task 2: Choose two attributes to use in your graph.** </span>\n",
    "Examples of attributes are protein, fat, sugars, etc. Look at the cereal table, to determine what attributes to use.\n",
    "\n",
    "- Which attribute is on the x-axis? Which attribute is on the y-axis?\n",
    "\n",
    "<span style=\"color:black\"> **Task 3: Analyze graph and make 3 Recommendations** </span>\n",
    "Based off of your graph, which three cereals should you recommend to the school board? Remember, the goal is to recommend three cereals that have high ratings but are low in sugar."
   ]
  },
  {
   "cell_type": "code",
   "execution_count": 31,
   "metadata": {},
   "outputs": [],
   "source": [
    "# ** STUDENT SECTION BEGINS **\n",
    "\n",
    "# Task 1: Choose a type of graph\n",
    "# options: px.bar, px.line, px.scatter (example: chosen_graph = px.line)\n",
    "chosen_graph = px.line # The default is bar. Change as needed.\n",
    "\n",
    "\n",
    "# Task 2: Choose two attributes you want to visualize. Be careful of spelling!\n",
    "x_attribute = \"sugars\"\n",
    "y_attribute = \"vitamins\"\n",
    "\n",
    "# ** STUDENT SECTION ENDS **"
   ]
  },
  {
   "cell_type": "code",
   "execution_count": null,
   "metadata": {},
   "outputs": [],
   "source": [
    "# Create an interactive graph\n",
    "\n",
    "# sub_df = cereal_df.head(30)\n",
    "\n",
    "\n",
    "fig = chosen_graph(\n",
    "    cereal_df,\n",
    "    # sub_df\n",
    "    x = x_attribute.lower(),\n",
    "    y = y_attribute.lower(),\n",
    "    hover_name=\"name\",  # Show cereal name on hover\n",
    "    title = f\"Relationship between {x_attribute.capitalize()} and {y_attribute.capitalize()}\",\n",
    ")\n",
    "\n",
    "# Show the plot\n",
    "fig.show()\n",
    "\n",
    "# If figure does not show: uncomment the next line.\n",
    "# fig.write_html(\"graph1.html\") # downloads graph as an html file"
   ]
  },
  {
   "cell_type": "markdown",
   "metadata": {},
   "source": [
    "### **Part 3: Data Interpretation**"
   ]
  },
  {
   "cell_type": "markdown",
   "metadata": {},
   "source": [
    "### Task: Find cereals that are rich in fiber and protein but low in sugar and fat\n",
    "\n",
    "<span style=\"color:black\"> **Task 1: Run the code below to generate the graph** </span> <br>\n",
    "A graph is already provided for you. SImply run the code below to see the graph.\n",
    "\n",
    "<span style=\"color:black\"> **Task 2: Explore the graph** </span>\n",
    "- What observations can you make about this graph?\n",
    "- What do you notice about the placement of each circle along the the x and y axis?\n",
    "- What do you notice about the size of each circle?\n",
    "- What do you notice about the colour of each circle?\n",
    "\n",
    "<span style=\"color:black\"> **Task 3: Recommend 3 cerals that meet the criteria.** </span>\n",
    "Use your mouse to hover over the points to see more information. Analyze the graph to determine which 3 cereals are high in fiber and protein but low in sugar and fat.\n",
    "\n"
   ]
  },
  {
   "cell_type": "code",
   "execution_count": 4,
   "metadata": {},
   "outputs": [
    {
     "data": {
      "application/vnd.plotly.v1+json": {
       "config": {
        "plotlyServerURL": "https://plot.ly"
       },
       "data": [
        {
         "hovertemplate": "<b>%{hovertext}</b><br><br>Fiber (g)=%{x}<br>Protein (g)=%{y}<br>Fat (g)=%{marker.size}<br>Sugar (g)=%{marker.color}<extra></extra>",
         "hovertext": [
          "100% Bran",
          "100% Natural Bran",
          "All-Bran",
          "All-Bran with Extra Fiber",
          "Almond Delight",
          "Apple Cinnamon Cheerios",
          "Apple Jacks",
          "Basic 4",
          "Bran Chex",
          "Bran Flakes",
          "Cap'n'Crunch",
          "Cheerios",
          "Cinnamon Toast Crunch",
          "Clusters",
          "Cocoa Puffs",
          "Corn Chex",
          "Corn Flakes",
          "Corn Pops",
          "Count Chocula",
          "Cracklin' Oat Bran",
          "Cream of Wheat (Quick)",
          "Crispix",
          "Crispy Wheat & Raisins",
          "Double Chex",
          "Froot Loops",
          "Frosted Flakes",
          "Frosted Mini-Wheats",
          "Fruit & Fibre Dates; Walnuts; and Oats",
          "Fruitful Bran",
          "Fruity Pebbles",
          "Golden Crisp",
          "Golden Grahams",
          "Grape Nuts Flakes",
          "Grape-Nuts",
          "Great Grains Pecan",
          "Honey Graham Ohs",
          "Honey Nut Cheerios",
          "Honey-comb",
          "Just Right Crunchy  Nuggets",
          "Just Right Fruit & Nut",
          "Kix",
          "Life",
          "Lucky Charms",
          "Maypo",
          "Muesli Raisins; Dates; & Almonds",
          "Muesli Raisins; Peaches; & Pecans",
          "Mueslix Crispy Blend",
          "Multi-Grain Cheerios",
          "Nut&Honey Crunch",
          "Nutri-Grain Almond-Raisin",
          "Nutri-grain Wheat",
          "Oatmeal Raisin Crisp",
          "Post Nat. Raisin Bran",
          "Product 19",
          "Puffed Rice",
          "Puffed Wheat",
          "Quaker Oat Squares",
          "Quaker Oatmeal",
          "Raisin Bran",
          "Raisin Nut Bran",
          "Raisin Squares",
          "Rice Chex",
          "Rice Krispies",
          "Shredded Wheat",
          "Shredded Wheat 'n'Bran",
          "Shredded Wheat spoon size",
          "Smacks",
          "Special K",
          "Strawberry Fruit Wheats",
          "Total Corn Flakes",
          "Total Raisin Bran",
          "Total Whole Grain",
          "Triples",
          "Trix",
          "Wheat Chex",
          "Wheaties",
          "Wheaties Honey Gold"
         ],
         "legendgroup": "",
         "marker": {
          "color": [
           6,
           8,
           5,
           0,
           8,
           10,
           14,
           8,
           6,
           5,
           12,
           1,
           9,
           7,
           13,
           3,
           2,
           12,
           13,
           7,
           0,
           3,
           10,
           5,
           13,
           11,
           7,
           10,
           12,
           12,
           15,
           9,
           5,
           3,
           4,
           11,
           10,
           11,
           6,
           9,
           3,
           6,
           12,
           3,
           11,
           11,
           13,
           6,
           9,
           7,
           2,
           10,
           14,
           3,
           0,
           0,
           6,
           -1,
           12,
           8,
           6,
           2,
           3,
           0,
           0,
           0,
           15,
           3,
           5,
           3,
           14,
           3,
           3,
           12,
           3,
           3,
           8
          ],
          "coloraxis": "coloraxis",
          "size": [
           1,
           5,
           1,
           0,
           2,
           2,
           0,
           2,
           1,
           0,
           2,
           2,
           3,
           2,
           1,
           0,
           0,
           0,
           1,
           3,
           0,
           0,
           1,
           0,
           1,
           0,
           0,
           2,
           0,
           1,
           0,
           1,
           1,
           0,
           3,
           2,
           1,
           0,
           1,
           1,
           1,
           2,
           1,
           1,
           3,
           3,
           2,
           1,
           1,
           2,
           0,
           2,
           1,
           0,
           0,
           0,
           1,
           2,
           1,
           2,
           0,
           0,
           0,
           0,
           0,
           0,
           1,
           0,
           0,
           1,
           1,
           1,
           1,
           1,
           1,
           1,
           1
          ],
          "sizemode": "area",
          "sizeref": 0.0125,
          "symbol": "circle"
         },
         "mode": "markers",
         "name": "",
         "orientation": "v",
         "showlegend": false,
         "type": "scatter",
         "x": [
          10,
          2,
          9,
          14,
          1,
          1.5,
          1,
          2,
          4,
          5,
          0,
          2,
          0,
          2,
          0,
          0,
          1,
          1,
          0,
          4,
          1,
          1,
          2,
          1,
          1,
          1,
          3,
          5,
          5,
          0,
          0,
          0,
          3,
          3,
          3,
          1,
          1.5,
          0,
          1,
          2,
          0,
          2,
          0,
          0,
          3,
          3,
          3,
          2,
          0,
          3,
          3,
          1.5,
          6,
          1,
          0,
          1,
          2,
          2.7,
          5,
          2.5,
          2,
          0,
          0,
          3,
          4,
          3,
          1,
          1,
          3,
          0,
          4,
          3,
          0,
          0,
          3,
          3,
          1
         ],
         "xaxis": "x",
         "y": [
          4,
          3,
          4,
          4,
          2,
          2,
          2,
          3,
          2,
          3,
          1,
          6,
          1,
          3,
          1,
          2,
          2,
          1,
          1,
          3,
          3,
          2,
          2,
          2,
          2,
          1,
          3,
          3,
          3,
          1,
          2,
          1,
          3,
          3,
          3,
          1,
          3,
          1,
          2,
          3,
          2,
          4,
          2,
          4,
          4,
          4,
          3,
          2,
          2,
          3,
          3,
          3,
          3,
          3,
          1,
          2,
          4,
          5,
          3,
          3,
          2,
          1,
          2,
          2,
          3,
          3,
          2,
          6,
          2,
          2,
          3,
          3,
          2,
          1,
          3,
          3,
          2
         ],
         "yaxis": "y"
        }
       ],
       "layout": {
        "coloraxis": {
         "colorbar": {
          "title": {
           "text": "Sugar (g)"
          }
         },
         "colorscale": [
          [
           0,
           "#0d0887"
          ],
          [
           0.1111111111111111,
           "#46039f"
          ],
          [
           0.2222222222222222,
           "#7201a8"
          ],
          [
           0.3333333333333333,
           "#9c179e"
          ],
          [
           0.4444444444444444,
           "#bd3786"
          ],
          [
           0.5555555555555556,
           "#d8576b"
          ],
          [
           0.6666666666666666,
           "#ed7953"
          ],
          [
           0.7777777777777778,
           "#fb9f3a"
          ],
          [
           0.8888888888888888,
           "#fdca26"
          ],
          [
           1,
           "#f0f921"
          ]
         ]
        },
        "legend": {
         "itemsizing": "constant",
         "tracegroupgap": 0
        },
        "template": {
         "data": {
          "bar": [
           {
            "error_x": {
             "color": "#2a3f5f"
            },
            "error_y": {
             "color": "#2a3f5f"
            },
            "marker": {
             "line": {
              "color": "#E5ECF6",
              "width": 0.5
             },
             "pattern": {
              "fillmode": "overlay",
              "size": 10,
              "solidity": 0.2
             }
            },
            "type": "bar"
           }
          ],
          "barpolar": [
           {
            "marker": {
             "line": {
              "color": "#E5ECF6",
              "width": 0.5
             },
             "pattern": {
              "fillmode": "overlay",
              "size": 10,
              "solidity": 0.2
             }
            },
            "type": "barpolar"
           }
          ],
          "carpet": [
           {
            "aaxis": {
             "endlinecolor": "#2a3f5f",
             "gridcolor": "white",
             "linecolor": "white",
             "minorgridcolor": "white",
             "startlinecolor": "#2a3f5f"
            },
            "baxis": {
             "endlinecolor": "#2a3f5f",
             "gridcolor": "white",
             "linecolor": "white",
             "minorgridcolor": "white",
             "startlinecolor": "#2a3f5f"
            },
            "type": "carpet"
           }
          ],
          "choropleth": [
           {
            "colorbar": {
             "outlinewidth": 0,
             "ticks": ""
            },
            "type": "choropleth"
           }
          ],
          "contour": [
           {
            "colorbar": {
             "outlinewidth": 0,
             "ticks": ""
            },
            "colorscale": [
             [
              0,
              "#0d0887"
             ],
             [
              0.1111111111111111,
              "#46039f"
             ],
             [
              0.2222222222222222,
              "#7201a8"
             ],
             [
              0.3333333333333333,
              "#9c179e"
             ],
             [
              0.4444444444444444,
              "#bd3786"
             ],
             [
              0.5555555555555556,
              "#d8576b"
             ],
             [
              0.6666666666666666,
              "#ed7953"
             ],
             [
              0.7777777777777778,
              "#fb9f3a"
             ],
             [
              0.8888888888888888,
              "#fdca26"
             ],
             [
              1,
              "#f0f921"
             ]
            ],
            "type": "contour"
           }
          ],
          "contourcarpet": [
           {
            "colorbar": {
             "outlinewidth": 0,
             "ticks": ""
            },
            "type": "contourcarpet"
           }
          ],
          "heatmap": [
           {
            "colorbar": {
             "outlinewidth": 0,
             "ticks": ""
            },
            "colorscale": [
             [
              0,
              "#0d0887"
             ],
             [
              0.1111111111111111,
              "#46039f"
             ],
             [
              0.2222222222222222,
              "#7201a8"
             ],
             [
              0.3333333333333333,
              "#9c179e"
             ],
             [
              0.4444444444444444,
              "#bd3786"
             ],
             [
              0.5555555555555556,
              "#d8576b"
             ],
             [
              0.6666666666666666,
              "#ed7953"
             ],
             [
              0.7777777777777778,
              "#fb9f3a"
             ],
             [
              0.8888888888888888,
              "#fdca26"
             ],
             [
              1,
              "#f0f921"
             ]
            ],
            "type": "heatmap"
           }
          ],
          "heatmapgl": [
           {
            "colorbar": {
             "outlinewidth": 0,
             "ticks": ""
            },
            "colorscale": [
             [
              0,
              "#0d0887"
             ],
             [
              0.1111111111111111,
              "#46039f"
             ],
             [
              0.2222222222222222,
              "#7201a8"
             ],
             [
              0.3333333333333333,
              "#9c179e"
             ],
             [
              0.4444444444444444,
              "#bd3786"
             ],
             [
              0.5555555555555556,
              "#d8576b"
             ],
             [
              0.6666666666666666,
              "#ed7953"
             ],
             [
              0.7777777777777778,
              "#fb9f3a"
             ],
             [
              0.8888888888888888,
              "#fdca26"
             ],
             [
              1,
              "#f0f921"
             ]
            ],
            "type": "heatmapgl"
           }
          ],
          "histogram": [
           {
            "marker": {
             "pattern": {
              "fillmode": "overlay",
              "size": 10,
              "solidity": 0.2
             }
            },
            "type": "histogram"
           }
          ],
          "histogram2d": [
           {
            "colorbar": {
             "outlinewidth": 0,
             "ticks": ""
            },
            "colorscale": [
             [
              0,
              "#0d0887"
             ],
             [
              0.1111111111111111,
              "#46039f"
             ],
             [
              0.2222222222222222,
              "#7201a8"
             ],
             [
              0.3333333333333333,
              "#9c179e"
             ],
             [
              0.4444444444444444,
              "#bd3786"
             ],
             [
              0.5555555555555556,
              "#d8576b"
             ],
             [
              0.6666666666666666,
              "#ed7953"
             ],
             [
              0.7777777777777778,
              "#fb9f3a"
             ],
             [
              0.8888888888888888,
              "#fdca26"
             ],
             [
              1,
              "#f0f921"
             ]
            ],
            "type": "histogram2d"
           }
          ],
          "histogram2dcontour": [
           {
            "colorbar": {
             "outlinewidth": 0,
             "ticks": ""
            },
            "colorscale": [
             [
              0,
              "#0d0887"
             ],
             [
              0.1111111111111111,
              "#46039f"
             ],
             [
              0.2222222222222222,
              "#7201a8"
             ],
             [
              0.3333333333333333,
              "#9c179e"
             ],
             [
              0.4444444444444444,
              "#bd3786"
             ],
             [
              0.5555555555555556,
              "#d8576b"
             ],
             [
              0.6666666666666666,
              "#ed7953"
             ],
             [
              0.7777777777777778,
              "#fb9f3a"
             ],
             [
              0.8888888888888888,
              "#fdca26"
             ],
             [
              1,
              "#f0f921"
             ]
            ],
            "type": "histogram2dcontour"
           }
          ],
          "mesh3d": [
           {
            "colorbar": {
             "outlinewidth": 0,
             "ticks": ""
            },
            "type": "mesh3d"
           }
          ],
          "parcoords": [
           {
            "line": {
             "colorbar": {
              "outlinewidth": 0,
              "ticks": ""
             }
            },
            "type": "parcoords"
           }
          ],
          "pie": [
           {
            "automargin": true,
            "type": "pie"
           }
          ],
          "scatter": [
           {
            "fillpattern": {
             "fillmode": "overlay",
             "size": 10,
             "solidity": 0.2
            },
            "type": "scatter"
           }
          ],
          "scatter3d": [
           {
            "line": {
             "colorbar": {
              "outlinewidth": 0,
              "ticks": ""
             }
            },
            "marker": {
             "colorbar": {
              "outlinewidth": 0,
              "ticks": ""
             }
            },
            "type": "scatter3d"
           }
          ],
          "scattercarpet": [
           {
            "marker": {
             "colorbar": {
              "outlinewidth": 0,
              "ticks": ""
             }
            },
            "type": "scattercarpet"
           }
          ],
          "scattergeo": [
           {
            "marker": {
             "colorbar": {
              "outlinewidth": 0,
              "ticks": ""
             }
            },
            "type": "scattergeo"
           }
          ],
          "scattergl": [
           {
            "marker": {
             "colorbar": {
              "outlinewidth": 0,
              "ticks": ""
             }
            },
            "type": "scattergl"
           }
          ],
          "scattermapbox": [
           {
            "marker": {
             "colorbar": {
              "outlinewidth": 0,
              "ticks": ""
             }
            },
            "type": "scattermapbox"
           }
          ],
          "scatterpolar": [
           {
            "marker": {
             "colorbar": {
              "outlinewidth": 0,
              "ticks": ""
             }
            },
            "type": "scatterpolar"
           }
          ],
          "scatterpolargl": [
           {
            "marker": {
             "colorbar": {
              "outlinewidth": 0,
              "ticks": ""
             }
            },
            "type": "scatterpolargl"
           }
          ],
          "scatterternary": [
           {
            "marker": {
             "colorbar": {
              "outlinewidth": 0,
              "ticks": ""
             }
            },
            "type": "scatterternary"
           }
          ],
          "surface": [
           {
            "colorbar": {
             "outlinewidth": 0,
             "ticks": ""
            },
            "colorscale": [
             [
              0,
              "#0d0887"
             ],
             [
              0.1111111111111111,
              "#46039f"
             ],
             [
              0.2222222222222222,
              "#7201a8"
             ],
             [
              0.3333333333333333,
              "#9c179e"
             ],
             [
              0.4444444444444444,
              "#bd3786"
             ],
             [
              0.5555555555555556,
              "#d8576b"
             ],
             [
              0.6666666666666666,
              "#ed7953"
             ],
             [
              0.7777777777777778,
              "#fb9f3a"
             ],
             [
              0.8888888888888888,
              "#fdca26"
             ],
             [
              1,
              "#f0f921"
             ]
            ],
            "type": "surface"
           }
          ],
          "table": [
           {
            "cells": {
             "fill": {
              "color": "#EBF0F8"
             },
             "line": {
              "color": "white"
             }
            },
            "header": {
             "fill": {
              "color": "#C8D4E3"
             },
             "line": {
              "color": "white"
             }
            },
            "type": "table"
           }
          ]
         },
         "layout": {
          "annotationdefaults": {
           "arrowcolor": "#2a3f5f",
           "arrowhead": 0,
           "arrowwidth": 1
          },
          "autotypenumbers": "strict",
          "coloraxis": {
           "colorbar": {
            "outlinewidth": 0,
            "ticks": ""
           }
          },
          "colorscale": {
           "diverging": [
            [
             0,
             "#8e0152"
            ],
            [
             0.1,
             "#c51b7d"
            ],
            [
             0.2,
             "#de77ae"
            ],
            [
             0.3,
             "#f1b6da"
            ],
            [
             0.4,
             "#fde0ef"
            ],
            [
             0.5,
             "#f7f7f7"
            ],
            [
             0.6,
             "#e6f5d0"
            ],
            [
             0.7,
             "#b8e186"
            ],
            [
             0.8,
             "#7fbc41"
            ],
            [
             0.9,
             "#4d9221"
            ],
            [
             1,
             "#276419"
            ]
           ],
           "sequential": [
            [
             0,
             "#0d0887"
            ],
            [
             0.1111111111111111,
             "#46039f"
            ],
            [
             0.2222222222222222,
             "#7201a8"
            ],
            [
             0.3333333333333333,
             "#9c179e"
            ],
            [
             0.4444444444444444,
             "#bd3786"
            ],
            [
             0.5555555555555556,
             "#d8576b"
            ],
            [
             0.6666666666666666,
             "#ed7953"
            ],
            [
             0.7777777777777778,
             "#fb9f3a"
            ],
            [
             0.8888888888888888,
             "#fdca26"
            ],
            [
             1,
             "#f0f921"
            ]
           ],
           "sequentialminus": [
            [
             0,
             "#0d0887"
            ],
            [
             0.1111111111111111,
             "#46039f"
            ],
            [
             0.2222222222222222,
             "#7201a8"
            ],
            [
             0.3333333333333333,
             "#9c179e"
            ],
            [
             0.4444444444444444,
             "#bd3786"
            ],
            [
             0.5555555555555556,
             "#d8576b"
            ],
            [
             0.6666666666666666,
             "#ed7953"
            ],
            [
             0.7777777777777778,
             "#fb9f3a"
            ],
            [
             0.8888888888888888,
             "#fdca26"
            ],
            [
             1,
             "#f0f921"
            ]
           ]
          },
          "colorway": [
           "#636efa",
           "#EF553B",
           "#00cc96",
           "#ab63fa",
           "#FFA15A",
           "#19d3f3",
           "#FF6692",
           "#B6E880",
           "#FF97FF",
           "#FECB52"
          ],
          "font": {
           "color": "#2a3f5f"
          },
          "geo": {
           "bgcolor": "white",
           "lakecolor": "white",
           "landcolor": "#E5ECF6",
           "showlakes": true,
           "showland": true,
           "subunitcolor": "white"
          },
          "hoverlabel": {
           "align": "left"
          },
          "hovermode": "closest",
          "mapbox": {
           "style": "light"
          },
          "paper_bgcolor": "white",
          "plot_bgcolor": "#E5ECF6",
          "polar": {
           "angularaxis": {
            "gridcolor": "white",
            "linecolor": "white",
            "ticks": ""
           },
           "bgcolor": "#E5ECF6",
           "radialaxis": {
            "gridcolor": "white",
            "linecolor": "white",
            "ticks": ""
           }
          },
          "scene": {
           "xaxis": {
            "backgroundcolor": "#E5ECF6",
            "gridcolor": "white",
            "gridwidth": 2,
            "linecolor": "white",
            "showbackground": true,
            "ticks": "",
            "zerolinecolor": "white"
           },
           "yaxis": {
            "backgroundcolor": "#E5ECF6",
            "gridcolor": "white",
            "gridwidth": 2,
            "linecolor": "white",
            "showbackground": true,
            "ticks": "",
            "zerolinecolor": "white"
           },
           "zaxis": {
            "backgroundcolor": "#E5ECF6",
            "gridcolor": "white",
            "gridwidth": 2,
            "linecolor": "white",
            "showbackground": true,
            "ticks": "",
            "zerolinecolor": "white"
           }
          },
          "shapedefaults": {
           "line": {
            "color": "#2a3f5f"
           }
          },
          "ternary": {
           "aaxis": {
            "gridcolor": "white",
            "linecolor": "white",
            "ticks": ""
           },
           "baxis": {
            "gridcolor": "white",
            "linecolor": "white",
            "ticks": ""
           },
           "bgcolor": "#E5ECF6",
           "caxis": {
            "gridcolor": "white",
            "linecolor": "white",
            "ticks": ""
           }
          },
          "title": {
           "x": 0.05
          },
          "xaxis": {
           "automargin": true,
           "gridcolor": "white",
           "linecolor": "white",
           "ticks": "",
           "title": {
            "standoff": 15
           },
           "zerolinecolor": "white",
           "zerolinewidth": 2
          },
          "yaxis": {
           "automargin": true,
           "gridcolor": "white",
           "linecolor": "white",
           "ticks": "",
           "title": {
            "standoff": 15
           },
           "zerolinecolor": "white",
           "zerolinewidth": 2
          }
         }
        },
        "title": {
         "text": "Cereals: Fiber & Protein vs. Sugar & Fat"
        },
        "xaxis": {
         "anchor": "y",
         "domain": [
          0,
          1
         ],
         "title": {
          "text": "Fiber (g)"
         }
        },
        "yaxis": {
         "anchor": "x",
         "domain": [
          0,
          1
         ],
         "title": {
          "text": "Protein (g)"
         }
        }
       }
      }
     },
     "metadata": {},
     "output_type": "display_data"
    }
   ],
   "source": [
    "# Graph\n",
    "graph = px.scatter(\n",
    "    cereal_df,\n",
    "    x=\"fiber\",  # Fiber on the x-axis\n",
    "    y=\"protein\",  # Protein on the y-axis\n",
    "    size=\"fat\",  # Represent fat content with the size of the marker\n",
    "    color=\"sugars\",  # Represent sugar level with color\n",
    "    hover_name=\"name\",  # Show cereal name when you hover over a point\n",
    "    title=\"Cereals: Fiber & Protein vs. Sugar & Fat\",\n",
    "    labels={\n",
    "        \"fiber\": \"Fiber (g)\",\n",
    "        \"protein\": \"Protein (g)\",\n",
    "        \"sugars\": \"Sugar (g)\",\n",
    "        \"fat\": \"Fat (g)\",\n",
    "    },\n",
    ")\n",
    "\n",
    "# Show graph\n",
    "graph.show()"
   ]
  }
 ],
 "metadata": {
  "kernelspec": {
   "display_name": "Python 3",
   "language": "python",
   "name": "python3"
  },
  "language_info": {
   "codemirror_mode": {
    "name": "ipython",
    "version": 3
   },
   "file_extension": ".py",
   "mimetype": "text/x-python",
   "name": "python",
   "nbconvert_exporter": "python",
   "pygments_lexer": "ipython3",
   "version": "3.10.2"
  }
 },
 "nbformat": 4,
 "nbformat_minor": 2
}
