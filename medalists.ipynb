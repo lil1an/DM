{
 "cells": [
  {
   "cell_type": "markdown",
   "metadata": {},
   "source": [
    "# Olympic Challenge\n",
    "\n",
    "As part of sports day, you are tasked with researching the Olympic medalists from the Beijing  2022 Winter Games. The goal is to highlight the diversity and excellence in winter sports, promoting inspiration and motivation among students.\n",
    "\n",
    "**Goal 1: Identify the countries that dominated in alpine skiing.**<br>\n",
    "\n",
    "Using the `medalists.csv` dataset: \n",
    "1. Take the time to understand the medalists data. What pieces of data do you see?\n",
    "2. Create a graph to help you answer your goal. Choose the graph that will best represent the data you are looking for.\n",
    "3. Using the graphs you create, answer your goal."
   ]
  },
  {
   "cell_type": "code",
   "execution_count": 103,
   "metadata": {},
   "outputs": [],
   "source": [
    "# Import libraries\n",
    "import pandas as pd\n",
    "import matplotlib.pyplot as plt\n",
    "\n",
    "# Load data\n",
    "df = pd.read_csv(\"csv_files/medalists.csv\")"
   ]
  },
  {
   "cell_type": "code",
   "execution_count": 104,
   "metadata": {},
   "outputs": [],
   "source": [
    "# ** STUDENT SECTION BEGINS **\n",
    "\n",
    "# Task 1: Choose a type of graph\n",
    "# options: line, bar, pie    example: chosen_graph = \"line\"\n",
    "chosen_graph = \"pie\"         # Change as needed\n",
    "\n",
    "\n",
    "# Task 2: Choose two attributes you want to use to filter through the data table. Be careful of spelling!\n",
    "sport_name = \"Alpine Skiing\"\n",
    "medal_colour = \"Gold\"\n",
    "\n",
    "\n",
    "# ** STUDENT SECTION ENDS **"
   ]
  },
  {
   "cell_type": "code",
   "execution_count": null,
   "metadata": {},
   "outputs": [],
   "source": [
    "# Create Graph\n",
    "df[\"SPORTS\"] = df[\"SPORTS\"].str.strip() # remove white spaces\n",
    "# Filter\n",
    "df_sport_winners = df[(df['SPORTS'].str.capitalize() == sport_name.capitalize()) \n",
    "                           & (df['MEDAL'] == medal_colour.capitalize())]\n",
    "\n",
    "# Count the number of gold medals by country\n",
    "gold_medals_by_country = df_sport_winners[\"NOC\"].value_counts()\n",
    "\n",
    "# Graphing\n",
    "plt.figure(figsize=(10, 6))\n",
    "\n",
    "# Type of graph\n",
    "if (chosen_graph.lower() == \"bar\"):\n",
    "    gold_medals_by_country.plot(kind=\"bar\")\n",
    "elif (chosen_graph.lower() == \"line\"):\n",
    "    gold_medals_by_country.plot(kind=\"line\")\n",
    "elif (chosen_graph.lower() == \"pie\"):\n",
    "    gold_medals_by_country.plot(kind=\"pie\")\n",
    "    plt.xlabel(\"\")\n",
    "    plt.ylabel(\"\")\n",
    "elif (chosen_graph.lower() == \"scatter\"):\n",
    "    gold_medals_by_country.plot(kind=\"scatter\")\n",
    "    \n",
    "# Label Axis    \n",
    "plt.title(f\"{medal_colour.capitalize()} in {sport_name.capitalize()} by Country - Beijing 2022 Olympics\")\n",
    "\n",
    "if (chosen_graph.lower() != \"pie\"):\n",
    "    plt.xlabel(\"Country\")\n",
    "    plt.ylabel(\"Number of Gold Medals\")\n",
    "plt.xticks(rotation=45)\n",
    "plt.show()"
   ]
  }
 ],
 "metadata": {
  "kernelspec": {
   "display_name": "Python 3",
   "language": "python",
   "name": "python3"
  },
  "language_info": {
   "codemirror_mode": {
    "name": "ipython",
    "version": 3
   },
   "file_extension": ".py",
   "mimetype": "text/x-python",
   "name": "python",
   "nbconvert_exporter": "python",
   "pygments_lexer": "ipython3",
   "version": "3.10.2"
  }
 },
 "nbformat": 4,
 "nbformat_minor": 2
}
